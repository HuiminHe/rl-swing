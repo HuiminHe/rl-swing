{
 "cells": [
  {
   "cell_type": "markdown",
   "metadata": {},
   "source": [
    "# Configuration"
   ]
  },
  {
   "cell_type": "code",
   "execution_count": 21,
   "metadata": {
    "ExecuteTime": {
     "end_time": "2018-03-21T01:12:18.810434Z",
     "start_time": "2018-03-21T01:12:18.806528Z"
    },
    "collapsed": true
   },
   "outputs": [],
   "source": [
    "import numpy as np\n",
    "import cloudpickle\n",
    "from scipy import integrate\n",
    "import matplotlib.pyplot as plt"
   ]
  },
  {
   "cell_type": "code",
   "execution_count": 41,
   "metadata": {
    "ExecuteTime": {
     "end_time": "2018-03-21T02:42:16.079557Z",
     "start_time": "2018-03-21T02:42:16.065802Z"
    },
    "collapsed": true
   },
   "outputs": [],
   "source": [
    "# Parameters\n",
    "myParam = np.array([\n",
    "    0.05, 0.05, 0.05,\n",
    "    1/12 * 0.05 * 0.1**2, \n",
    "    1/12 * 0.05 * 0.1**2, \n",
    "    1/12 * 0.05 * 0.1**2,\n",
    "    0.15, 0.1, 0.1, 0.1,\n",
    "    0.05, 0.05, 0.05,\n",
    "    0.05, 0.05,\n",
    "    9.8\n",
    "])\n",
    "\n",
    "# Constraints\n",
    "myCon = np.array([100, 10, 0.01, np.deg2rad(80)])\n",
    "a_max = 100"
   ]
  },
  {
   "cell_type": "code",
   "execution_count": 19,
   "metadata": {
    "ExecuteTime": {
     "end_time": "2018-03-21T01:10:01.922764Z",
     "start_time": "2018-03-21T01:10:01.916690Z"
    },
    "collapsed": true
   },
   "outputs": [],
   "source": [
    "# Config\n",
    "t0 = 0\n",
    "t1 = 10\n",
    "dt = 0.01\n",
    "t = np.arange(t0, t1, dt)\n",
    "y0 = np.array([np.pi/6, 0, 0, 0, 0, 0])"
   ]
  },
  {
   "cell_type": "code",
   "execution_count": 93,
   "metadata": {
    "ExecuteTime": {
     "end_time": "2018-03-21T03:05:44.893791Z",
     "start_time": "2018-03-21T03:05:44.888602Z"
    }
   },
   "outputs": [],
   "source": [
    "f = cloudpickle.load(open('./model/swing_dynamic.dll', 'rb'))\n",
    "kinematic = cloudpickle.load(open('./model/swing_kinematic.dll', 'rb'))"
   ]
  },
  {
   "cell_type": "code",
   "execution_count": 25,
   "metadata": {
    "ExecuteTime": {
     "end_time": "2018-03-21T01:15:35.392490Z",
     "start_time": "2018-03-21T01:15:35.384882Z"
    },
    "collapsed": true
   },
   "outputs": [],
   "source": [
    "# def f(t, y, tau):\n",
    "#     v = y[3:]\n",
    "#     a = ddq_np(y, tau, myParam, myCon).squeeze()\n",
    "#     return np.r_[v, a]\n",
    "# sol2 = odeint(f, y0, t, args=(np.ones(2)*5, ))"
   ]
  },
  {
   "cell_type": "markdown",
   "metadata": {
    "ExecuteTime": {
     "end_time": "2018-03-21T00:23:19.524871Z",
     "start_time": "2018-03-21T00:23:19.521471Z"
    }
   },
   "source": [
    "# Environment"
   ]
  },
  {
   "cell_type": "code",
   "execution_count": 127,
   "metadata": {
    "ExecuteTime": {
     "end_time": "2018-03-21T03:15:52.539159Z",
     "start_time": "2018-03-21T03:15:52.533766Z"
    },
    "collapsed": true
   },
   "outputs": [],
   "source": [
    "def continuous_reward(state, action, next_state):\n",
    "    reward = -np.cos(next_state[0])\n",
    "    done = False\n",
    "    if reward > 0:\n",
    "        done = True\n",
    "    return reward, done"
   ]
  },
  {
   "cell_type": "code",
   "execution_count": 120,
   "metadata": {
    "ExecuteTime": {
     "end_time": "2018-03-21T03:13:32.347658Z",
     "start_time": "2018-03-21T03:13:32.255077Z"
    },
    "collapsed": true
   },
   "outputs": [],
   "source": [
    "class Swing:\n",
    "    def __init__(self, ode, reward_fcn, theta0=np.pi/6, max_steps=1000):\n",
    "        self.reward_fcn = reward_fcn\n",
    "        self.theta0 = theta0\n",
    "        self.done = True\n",
    "        self.max_steps = max_steps\n",
    "        self.ode = ode\n",
    "        \n",
    "    def step(self, action):\n",
    "        # check init\n",
    "        if self.done:\n",
    "            raise RuntimeError('The environment is not initialized.')\n",
    "        # update\n",
    "        clip_action = np.clip(action, -np.ones_like(action), np.ones_like(action))\n",
    "        torque = clip_action * a_max\n",
    "        self.ode.set_f_params(torque)\n",
    "        if self.ode.successful() and self.t < self.max_steps:\n",
    "            self.ode.integrate(self.ode.t + dt)\n",
    "        next_state = np.array(self.ode.y)\n",
    "        # compute reward\n",
    "        reward, self.done = self.reward_fcn(self.state, clip_action, next_state)\n",
    "        # check max step\n",
    "        if self.t >= self.max_steps:\n",
    "            self.done = True\n",
    "        self.state = np.array(next_state)\n",
    "        self.t += 1\n",
    "        return (next_state, reward, self.done, None)\n",
    "\n",
    "    def reset(self):\n",
    "        self.t = 0\n",
    "        self.done = False\n",
    "        self.state = np.array([np.random.uniform(-1, 1) * self.theta0, 0, 0, 0, 0, 0])\n",
    "        self.ode.set_initial_value(self.state, t0)\n",
    "        return self.state\n",
    "    def seed(self, s):\n",
    "        np.random.seed(s)"
   ]
  },
  {
   "cell_type": "code",
   "execution_count": 121,
   "metadata": {
    "ExecuteTime": {
     "end_time": "2018-03-21T03:13:33.716737Z",
     "start_time": "2018-03-21T03:13:33.712434Z"
    },
    "scrolled": true
   },
   "outputs": [],
   "source": [
    "ode = integrate.ode(f).set_integrator('vode', method='bdf')\n",
    "env = Swing(ode, continuous_reward)"
   ]
  },
  {
   "cell_type": "code",
   "execution_count": 123,
   "metadata": {
    "ExecuteTime": {
     "end_time": "2018-03-21T03:13:43.338190Z",
     "start_time": "2018-03-21T03:13:43.334040Z"
    }
   },
   "outputs": [],
   "source": [
    "env.seed(171)\n",
    "state = env.reset()"
   ]
  },
  {
   "cell_type": "code",
   "execution_count": 128,
   "metadata": {
    "ExecuteTime": {
     "end_time": "2018-03-21T03:21:47.032216Z",
     "start_time": "2018-03-21T03:21:47.027905Z"
    },
    "collapsed": true
   },
   "outputs": [],
   "source": [
    "np.random.uniform?"
   ]
  }
 ],
 "metadata": {
  "hide_input": false,
  "kernelspec": {
   "display_name": "Python 3",
   "language": "python",
   "name": "python3"
  },
  "language_info": {
   "codemirror_mode": {
    "name": "ipython",
    "version": 3
   },
   "file_extension": ".py",
   "mimetype": "text/x-python",
   "name": "python",
   "nbconvert_exporter": "python",
   "pygments_lexer": "ipython3",
   "version": "3.6.2"
  },
  "latex_envs": {
   "LaTeX_envs_menu_present": true,
   "autocomplete": true,
   "bibliofile": "biblio.bib",
   "cite_by": "apalike",
   "current_citInitial": 1,
   "eqLabelWithNumbers": true,
   "eqNumInitial": 1,
   "hotkeys": {
    "equation": "Ctrl-E",
    "itemize": "Ctrl-I"
   },
   "labels_anchors": false,
   "latex_user_defs": false,
   "report_style_numbering": false,
   "user_envs_cfg": false
  },
  "toc": {
   "nav_menu": {},
   "number_sections": true,
   "sideBar": true,
   "skip_h1_title": false,
   "title_cell": "Table of Contents",
   "title_sidebar": "Contents",
   "toc_cell": false,
   "toc_position": {},
   "toc_section_display": true,
   "toc_window_display": false
  },
  "varInspector": {
   "cols": {
    "lenName": 16,
    "lenType": 16,
    "lenVar": 40
   },
   "kernels_config": {
    "python": {
     "delete_cmd_postfix": "",
     "delete_cmd_prefix": "del ",
     "library": "var_list.py",
     "varRefreshCmd": "print(var_dic_list())"
    },
    "r": {
     "delete_cmd_postfix": ") ",
     "delete_cmd_prefix": "rm(",
     "library": "var_list.r",
     "varRefreshCmd": "cat(var_dic_list()) "
    }
   },
   "types_to_exclude": [
    "module",
    "function",
    "builtin_function_or_method",
    "instance",
    "_Feature"
   ],
   "window_display": false
  }
 },
 "nbformat": 4,
 "nbformat_minor": 2
}
