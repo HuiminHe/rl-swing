{
 "cells": [
  {
   "cell_type": "code",
   "execution_count": null,
   "metadata": {
    "collapsed": true
   },
   "outputs": [],
   "source": [
    "# remove the first 100 data points\n",
    "# fit a decay sine curve every sec\n",
    "# "
   ]
  },
  {
   "cell_type": "code",
   "execution_count": 13,
   "metadata": {
    "collapsed": true
   },
   "outputs": [],
   "source": [
    "import numpy as np\n",
    "from numpy import pi, r_\n",
    "import matplotlib.pyplot as plt\n",
    "from scipy import optimize\n",
    "\n",
    "# Generate data points with noise\n",
    "num_points = 200\n",
    "Tx = np.linspace(0., 8., num_points)\n",
    "Ty = Tx\n",
    "\n",
    "tX = 11.86*np.cos(2*pi/0.81*Tx-1.32) * np.exp(-0.1 * Tx) + 0.64*Tx+4*((0.5-np.random.rand(num_points))*np.exp(2*np.random.rand(num_points)**2))"
   ]
  },
  {
   "cell_type": "code",
   "execution_count": 20,
   "metadata": {
    "collapsed": true
   },
   "outputs": [],
   "source": [
    "# Fit the first set\n",
    "def foo():\n",
    "    fitfunc = lambda p, x: p[0]*np.cos(2*np.pi/p[1]*x+p[2])*np.exp(-p[4]*x) + p[3]*x # Target function\n",
    "    errfunc = lambda p, x, y: fitfunc(p, x) - y # Distance to the target function\n",
    "    p0 = [-15., 0.8, 0., -1., 0.0] # Initial guess for the parameters\n",
    "    p1, success = optimize.leastsq(errfunc, p0[:], args=(Tx, tX))"
   ]
  },
  {
   "cell_type": "code",
   "execution_count": null,
   "metadata": {
    "collapsed": true
   },
   "outputs": [],
   "source": []
  }
 ],
 "metadata": {
  "kernelspec": {
   "display_name": "Python 3",
   "language": "python",
   "name": "python3"
  },
  "language_info": {
   "codemirror_mode": {
    "name": "ipython",
    "version": 3
   },
   "file_extension": ".py",
   "mimetype": "text/x-python",
   "name": "python",
   "nbconvert_exporter": "python",
   "pygments_lexer": "ipython3",
   "version": "3.6.2"
  }
 },
 "nbformat": 4,
 "nbformat_minor": 2
}
